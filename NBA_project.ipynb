{
 "cells": [
  {
   "cell_type": "markdown",
   "metadata": {},
   "source": [
    "# NBA Project "
   ]
  },
  {
   "cell_type": "markdown",
   "metadata": {},
   "source": [
    "    Introduction to NBA"
   ]
  },
  {
   "cell_type": "markdown",
   "metadata": {},
   "source": [
    "The National Basketball Association (NBA) is an American men's professional basketball league. It is composed of 30 teams (29 in the United States and 1 in Canada) and is one of the four major professional sports leagues in the United States and Canada. It is the premier men's professional basketball league in the world.\n",
    "\n",
    "The league was founded in New York City on June 6, 1946, as the Basketball Association of America (BAA). It changed its name to the National Basketball Association on August 3, 1949, after merging with the competing National Basketball League (NBL)"
   ]
  },
  {
   "cell_type": "markdown",
   "metadata": {},
   "source": [
    "    Introduction to my project"
   ]
  },
  {
   "cell_type": "markdown",
   "metadata": {},
   "source": [
    "This is my final project where I will analyze all data about NBA pro players I choose topic related to one of my favourite sports game, basketball, and the most known league in the world, NBA. Firstly, I wanted to investigate the way player's heigh, weigfht, origin affects on their in-game effectiveness. Then I realized, that in ourdays very important thing is money, so I searched for data about players' salary. So I want to see how the salary of the player affects on the way he plays his game, and the way he helps his team to get points and trophies. Based on this factor, I decided to search for information from the past about the salary of the players who has been playing in NBA as a pro for years. So, the key point here is how salary of a player affects on his level of play."
   ]
  },
  {
   "cell_type": "markdown",
   "metadata": {},
   "source": [
    "    Data description"
   ]
  },
  {
   "cell_type": "markdown",
   "metadata": {},
   "source": [
    "I have a dataset, which I succesfully got from the kaggle, and there is one table containing all information about players' salary from 2002 to 2017. Table has information about player's name, his team, his salary for that season, his position and the season. All this information would help me to answer my main questions about NBA player's salaries. Which team spends more money on player's salary, in which season was the highest salary, which team was a conference leader, which position is high earning and all other stuff we can get from this table."
   ]
  },
  {
   "cell_type": "markdown",
   "metadata": {},
   "source": [
    "    Formulation of research question"
   ]
  },
  {
   "cell_type": "markdown",
   "metadata": {},
   "source": [
    "This is my main research question, does salary of a player affect on his game, or is it the result of his game? Also, I was thinking a lot about the position of the player on court, just because this can make some changes in his salary. For example, most of known basketball players are attackers like MJ, LeBron, Kobe Bryant and others, they all were playing on attacking positions such as small forward(SF) and power forward(PF) and shooting guard(SG). So, the next question I would work on is, How players' position affect on his salary? Also, I thought about players' age, that may affect on his salary. The older he is, the more he earns. So, Is it true, that older and more experienced basketball players earn more, rather than fresh blood players? And if it is true, why is it so? By the way, how has salaries changed in years, because every year dollar's price is changing, so maybe salaries gone higher, or lower? And the last question is, why players got to earn so much money?"
   ]
  },
  {
   "cell_type": "code",
   "execution_count": null,
   "metadata": {},
   "outputs": [],
   "source": []
  }
 ],
 "metadata": {
  "kernelspec": {
   "display_name": "Python 3",
   "language": "python",
   "name": "python3"
  },
  "language_info": {
   "codemirror_mode": {
    "name": "ipython",
    "version": 3
   },
   "file_extension": ".py",
   "mimetype": "text/x-python",
   "name": "python",
   "nbconvert_exporter": "python",
   "pygments_lexer": "ipython3",
   "version": "3.8.3"
  }
 },
 "nbformat": 4,
 "nbformat_minor": 4
}
